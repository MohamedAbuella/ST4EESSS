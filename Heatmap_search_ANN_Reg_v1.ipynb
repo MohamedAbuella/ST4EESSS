{
 "cells": [
  {
   "cell_type": "markdown",
   "id": "3691f594",
   "metadata": {},
   "source": [
    "### Heat map for the searching results of ANN regression with different inputs combination and ANN structure\n",
    "\n",
    "This notebook to present the results of the ANN searching with different combinations of inputs (i.e., 0,1,2,3) and ANN structure parameters (i.e., number of layers and number of neurons).\n",
    "\n",
    "\n",
    "The route sections (All, North, Middle, South, Direct) can be selected by modifying the value of the following flag switch (nth_mid_sth_fg) \n",
    "\n",
    "The inputs combination (0, 1, 2, 3) can be selected by modifying the value of the following flag switch (inp_idx) \n",
    "\n",
    "This notebook is reproducible,  the user just needs to chang the user_name in first cell, then the rest will automatically be created, such as folders and subfolders where figure and excel files are saved."
   ]
  },
  {
   "cell_type": "code",
   "execution_count": 1,
   "id": "fa70810a",
   "metadata": {},
   "outputs": [],
   "source": [
    "user_name='mohabu'"
   ]
  },
  {
   "cell_type": "code",
   "execution_count": 2,
   "id": "02cf478f",
   "metadata": {},
   "outputs": [],
   "source": [
    "# inp_idx=0  ## index of input variables\n",
    "inp_idx=1  \n",
    "# inp_idx=2  \n",
    "# inp_idx=3 "
   ]
  },
  {
   "cell_type": "code",
   "execution_count": 3,
   "id": "1d10e426",
   "metadata": {},
   "outputs": [],
   "source": [
    "nth_mid_sth_fg=0 ## All sections\n",
    "# nth_mid_sth_fg=1 ##North section\n",
    "# nth_mid_sth_fg=2 ##Middle section\n",
    "# nth_mid_sth_fg=3 ##South section\n",
    "# nth_mid_sth_fg=4 ##Direct routes"
   ]
  },
  {
   "cell_type": "code",
   "execution_count": 4,
   "id": "557e9fee",
   "metadata": {},
   "outputs": [],
   "source": [
    "search_eff_fl_sog=0; Res=\"Eff\"  ## search of Eff-Score regression's results\n"
   ]
  },
  {
   "cell_type": "code",
   "execution_count": 5,
   "id": "dc531456",
   "metadata": {},
   "outputs": [],
   "source": [
    "import pandas as pd\n",
    "import seaborn as sns\n",
    "import matplotlib.pyplot as plt\n",
    "import os\n",
    "import warnings\n",
    "warnings.filterwarnings(\"ignore\")"
   ]
  },
  {
   "cell_type": "code",
   "execution_count": 6,
   "id": "df76169e",
   "metadata": {},
   "outputs": [],
   "source": [
    "##### folder name for saving files: figures, data, etc ####\n",
    "Output_folder='Spatio_Temporl_Agg_Eff_Score'\n",
    "\n",
    "\n",
    "Output_Subfolder = Output_folder+'/Heatmap_Search_ANN_Reg_v1'+'/NMS_'+'search_eff_fl_sog_'+Res\n"
   ]
  },
  {
   "cell_type": "code",
   "execution_count": 7,
   "id": "afbaa254",
   "metadata": {},
   "outputs": [],
   "source": [
    "folder_path = r'C:/Users/'+user_name+'/'+Output_Subfolder\n",
    "if not os.path.exists(folder_path):\n",
    "    os.makedirs(folder_path)"
   ]
  },
  {
   "cell_type": "code",
   "execution_count": 8,
   "id": "e507119f",
   "metadata": {},
   "outputs": [
    {
     "data": {
      "text/plain": [
       "(96, 16)"
      ]
     },
     "execution_count": 8,
     "metadata": {},
     "output_type": "execute_result"
    }
   ],
   "source": [
    "if nth_mid_sth_fg==0:\n",
    "    df=pd.read_excel('C:/Users/'+user_name+'/Spatio_Temporl_Agg_Eff_Score/Results_Search_ANN_Reg_Eff/Search_Eff_Reg_Mod_All_weathers_loc_0_NMS_0_EffTp_1_GrOck_2_0.7288.xlsx')\n",
    "if nth_mid_sth_fg==1:    \n",
    "    df=pd.read_excel('C:/Users/'+user_name+'/Spatio_Temporl_Agg_Eff_Score/Results_Search_ANN_Reg_Eff/Search_Eff_Reg_Mod_All_weathers_loc_0_NMS_1_EffTp_1_GrOck_2_0.9928.xlsx')\n",
    "if nth_mid_sth_fg==2:\n",
    "    df=pd.read_excel('C:/Users/'+user_name+'/Spatio_Temporl_Agg_Eff_Score/Results_Search_ANN_Reg_Eff/Search_Eff_Reg_Mod_All_weathers_loc_0_NMS_2_EffTp_1_GrOck_2_0.7448.xlsx')\n",
    "if nth_mid_sth_fg==3:\n",
    "    df=pd.read_excel('C:/Users/'+user_name+'/Spatio_Temporl_Agg_Eff_Score/Results_Search_ANN_Reg_Eff/Search_Eff_Reg_Mod_All_weathers_loc_0_NMS_3_EffTp_1_GrOck_2_0.1707.xlsx')\n",
    "if nth_mid_sth_fg==4:\n",
    "    df=pd.read_excel('C:/Users/'+user_name+'/Spatio_Temporl_Agg_Eff_Score/Results_Search_ANN_Reg_Eff/Search_Eff_Reg_Mod_All_weathers_loc_0_NMS_4_EffTp_1_GrOck_2_0.0894.xlsx')\n",
    "\n",
    "\n",
    "df.shape"
   ]
  },
  {
   "cell_type": "code",
   "execution_count": 9,
   "id": "fc33c2da",
   "metadata": {},
   "outputs": [
    {
     "data": {
      "text/plain": [
       "Index(['Unnamed: 0', 'outputs', 'inputs', 'Inputs_index', 'No_inputs',\n",
       "       'No#_layers', 'No# neurons', 'epochs', 'batch', 'Learn Rate', 'act_fn',\n",
       "       'optimizer', 'MSE', 'RMSE', 'R2', 'MAE'],\n",
       "      dtype='object')"
      ]
     },
     "execution_count": 9,
     "metadata": {},
     "output_type": "execute_result"
    }
   ],
   "source": [
    "df.columns"
   ]
  },
  {
   "cell_type": "code",
   "execution_count": 10,
   "id": "07b6011a",
   "metadata": {},
   "outputs": [
    {
     "data": {
      "text/html": [
       "<div>\n",
       "<style scoped>\n",
       "    .dataframe tbody tr th:only-of-type {\n",
       "        vertical-align: middle;\n",
       "    }\n",
       "\n",
       "    .dataframe tbody tr th {\n",
       "        vertical-align: top;\n",
       "    }\n",
       "\n",
       "    .dataframe thead th {\n",
       "        text-align: right;\n",
       "    }\n",
       "</style>\n",
       "<table border=\"1\" class=\"dataframe\">\n",
       "  <thead>\n",
       "    <tr style=\"text-align: right;\">\n",
       "      <th></th>\n",
       "      <th>Inputs_index</th>\n",
       "      <th>No_inputs</th>\n",
       "      <th>No#_layers</th>\n",
       "      <th>No# neurons</th>\n",
       "      <th>MAE</th>\n",
       "    </tr>\n",
       "  </thead>\n",
       "  <tbody>\n",
       "    <tr>\n",
       "      <th>0</th>\n",
       "      <td>1</td>\n",
       "      <td>12</td>\n",
       "      <td>5</td>\n",
       "      <td>100</td>\n",
       "      <td>0.0204</td>\n",
       "    </tr>\n",
       "    <tr>\n",
       "      <th>1</th>\n",
       "      <td>1</td>\n",
       "      <td>12</td>\n",
       "      <td>4</td>\n",
       "      <td>100</td>\n",
       "      <td>0.0256</td>\n",
       "    </tr>\n",
       "    <tr>\n",
       "      <th>2</th>\n",
       "      <td>3</td>\n",
       "      <td>14</td>\n",
       "      <td>5</td>\n",
       "      <td>100</td>\n",
       "      <td>0.0267</td>\n",
       "    </tr>\n",
       "    <tr>\n",
       "      <th>3</th>\n",
       "      <td>3</td>\n",
       "      <td>14</td>\n",
       "      <td>4</td>\n",
       "      <td>100</td>\n",
       "      <td>0.0286</td>\n",
       "    </tr>\n",
       "    <tr>\n",
       "      <th>4</th>\n",
       "      <td>1</td>\n",
       "      <td>12</td>\n",
       "      <td>3</td>\n",
       "      <td>100</td>\n",
       "      <td>0.0290</td>\n",
       "    </tr>\n",
       "    <tr>\n",
       "      <th>...</th>\n",
       "      <td>...</td>\n",
       "      <td>...</td>\n",
       "      <td>...</td>\n",
       "      <td>...</td>\n",
       "      <td>...</td>\n",
       "    </tr>\n",
       "    <tr>\n",
       "      <th>91</th>\n",
       "      <td>2</td>\n",
       "      <td>10</td>\n",
       "      <td>10</td>\n",
       "      <td>10</td>\n",
       "      <td>0.0705</td>\n",
       "    </tr>\n",
       "    <tr>\n",
       "      <th>92</th>\n",
       "      <td>3</td>\n",
       "      <td>14</td>\n",
       "      <td>10</td>\n",
       "      <td>10</td>\n",
       "      <td>0.0705</td>\n",
       "    </tr>\n",
       "    <tr>\n",
       "      <th>93</th>\n",
       "      <td>3</td>\n",
       "      <td>14</td>\n",
       "      <td>10</td>\n",
       "      <td>100</td>\n",
       "      <td>0.0705</td>\n",
       "    </tr>\n",
       "    <tr>\n",
       "      <th>94</th>\n",
       "      <td>0</td>\n",
       "      <td>6</td>\n",
       "      <td>10</td>\n",
       "      <td>25</td>\n",
       "      <td>0.0705</td>\n",
       "    </tr>\n",
       "    <tr>\n",
       "      <th>95</th>\n",
       "      <td>2</td>\n",
       "      <td>10</td>\n",
       "      <td>10</td>\n",
       "      <td>25</td>\n",
       "      <td>0.0705</td>\n",
       "    </tr>\n",
       "  </tbody>\n",
       "</table>\n",
       "<p>96 rows × 5 columns</p>\n",
       "</div>"
      ],
      "text/plain": [
       "    Inputs_index  No_inputs  No#_layers  No# neurons     MAE\n",
       "0              1         12           5          100  0.0204\n",
       "1              1         12           4          100  0.0256\n",
       "2              3         14           5          100  0.0267\n",
       "3              3         14           4          100  0.0286\n",
       "4              1         12           3          100  0.0290\n",
       "..           ...        ...         ...          ...     ...\n",
       "91             2         10          10           10  0.0705\n",
       "92             3         14          10           10  0.0705\n",
       "93             3         14          10          100  0.0705\n",
       "94             0          6          10           25  0.0705\n",
       "95             2         10          10           25  0.0705\n",
       "\n",
       "[96 rows x 5 columns]"
      ]
     },
     "execution_count": 10,
     "metadata": {},
     "output_type": "execute_result"
    }
   ],
   "source": [
    "df[['Inputs_index', 'No_inputs', 'No#_layers', 'No# neurons', 'MAE']]"
   ]
  },
  {
   "cell_type": "code",
   "execution_count": 11,
   "id": "de92fdcf",
   "metadata": {},
   "outputs": [
    {
     "name": "stdout",
     "output_type": "stream",
     "text": [
      "1\n"
     ]
    }
   ],
   "source": [
    "inp_idx=inp_idx\n",
    "print(inp_idx)"
   ]
  },
  {
   "cell_type": "code",
   "execution_count": 12,
   "id": "33e9268a",
   "metadata": {},
   "outputs": [
    {
     "data": {
      "text/plain": [
       "(24, 18)"
      ]
     },
     "execution_count": 12,
     "metadata": {},
     "output_type": "execute_result"
    }
   ],
   "source": [
    "data=df[(df.Inputs_index==inp_idx)]\n",
    "data['Number of Layers']=df['No#_layers']\n",
    "data['Number of Neurons']=df['No# neurons']\n",
    "data.shape"
   ]
  },
  {
   "cell_type": "code",
   "execution_count": 13,
   "id": "6ef5b00b",
   "metadata": {},
   "outputs": [
    {
     "data": {
      "text/plain": [
       "(24, 18)"
      ]
     },
     "execution_count": 13,
     "metadata": {},
     "output_type": "execute_result"
    }
   ],
   "source": [
    "data2=data\n",
    "\n",
    "data2.shape"
   ]
  },
  {
   "cell_type": "code",
   "execution_count": 14,
   "id": "6d4f0ffb",
   "metadata": {
    "scrolled": false
   },
   "outputs": [
    {
     "data": {
      "image/png": "[encoded data removed]",
      "text/plain": [
       "<Figure size 432x288 with 2 Axes>"
      ]
     },
     "metadata": {
      "needs_background": "light"
     },
     "output_type": "display_data"
    }
   ],
   "source": [
    "# extract unique values\n",
    "data_unique = data2.drop_duplicates(subset=['No#_layers', 'No# neurons'], keep='first')\n",
    "\n",
    "if nth_mid_sth_fg==0:\n",
    "    sns.heatmap(data_unique.pivot('Number of Layers', 'Number of Neurons', 'MAE'), annot=True, fmt='g', cmap=\"Reds\",vmin=0.02, vmax=0.08)\n",
    "\n",
    "if nth_mid_sth_fg==1:\n",
    "    sns.heatmap(data_unique.pivot('Number of Layers', 'Number of Neurons', 'MAE'), annot=True, fmt='g', cmap=\"Reds\",vmin=0.02, vmax=0.08)\n",
    "\n",
    "if nth_mid_sth_fg==2:\n",
    "    sns.heatmap(data_unique.pivot('Number of Layers', 'Number of Neurons', 'MAE'), annot=True, fmt='g', cmap=\"Reds\",vmin=0.02, vmax=0.08)\n",
    "        \n",
    "if nth_mid_sth_fg==3:\n",
    "    sns.heatmap(data_unique.pivot('Number of Layers', 'Number of Neurons', 'MAE'), annot=True, fmt='g', cmap=\"Reds\",vmin=0.02, vmax=0.08)\n",
    "\n",
    "if nth_mid_sth_fg==4:\n",
    "    sns.heatmap(data_unique.pivot('Number of Layers', 'Number of Neurons', 'MAE'), annot=True, fmt='g', cmap=\"Reds\",vmin=0.02, vmax=0.08)\n",
    "\n",
    "# add title\n",
    "plt.title('Mean Absolute Error (MAE)',fontsize=14)\n",
    "\n",
    "\n",
    "plt.savefig('C:/Users/'+user_name+'/'+Output_Subfolder+'/Heatmap_search_ANNReg_MAE_'+Res+'_NMSD_'+str(nth_mid_sth_fg)+'_inputs_'+str(inp_idx)+'.png', dpi=600)\n",
    "\n",
    "plt.show()"
   ]
  },
  {
   "cell_type": "code",
   "execution_count": 15,
   "id": "771c9e29",
   "metadata": {},
   "outputs": [
    {
     "data": {
      "image/png": "[encoded data removed]",
      "text/plain": [
       "<Figure size 432x288 with 2 Axes>"
      ]
     },
     "metadata": {
      "needs_background": "light"
     },
     "output_type": "display_data"
    }
   ],
   "source": [
    "# extract unique values\n",
    "data_unique = data2.drop_duplicates(subset=['No#_layers', 'No# neurons'], keep='first')\n",
    "# sns.heatmap(data_unique.pivot('No#_layers', 'No# neurons', 'R2'), annot=True, fmt='g', cmap=\"Reds\")\n",
    "\n",
    "if nth_mid_sth_fg==0:\n",
    "    sns.heatmap(data_unique.pivot('Number of Layers', 'Number of Neurons', 'R2'), annot=True, fmt='g', cmap=\"Reds\",vmin=0, vmax=1)\n",
    "\n",
    "if nth_mid_sth_fg==1:\n",
    "    sns.heatmap(data_unique.pivot('Number of Layers', 'Number of Neurons', 'R2'), annot=True, fmt='g', cmap=\"Reds\",vmin=0, vmax=1)\n",
    "\n",
    "if nth_mid_sth_fg==2:\n",
    "    sns.heatmap(data_unique.pivot('Number of Layers', 'Number of Neurons', 'R2'), annot=True, fmt='g', cmap=\"Reds\",vmin=0, vmax=1)\n",
    "\n",
    "        \n",
    "if nth_mid_sth_fg==3:\n",
    "    sns.heatmap(data_unique.pivot('Number of Layers', 'Number of Neurons', 'R2'), annot=True, fmt='g', cmap=\"Reds\",vmin=0, vmax=1)\n",
    "\n",
    "if nth_mid_sth_fg==4:\n",
    "    sns.heatmap(data_unique.pivot('Number of Layers', 'Number of Neurons', 'R2'), annot=True, fmt='g', cmap=\"Reds\",vmin=0, vmax=1)\n",
    "\n",
    "\n",
    "# add title\n",
    "plt.title('Coefficient of Determination ($R^2$)', fontsize=14)\n",
    "\n",
    "\n",
    "plt.savefig('C:/Users/'+user_name+'/'+Output_Subfolder+'/Heatmap_search_ANNReg_R2_'+Res+'_NMSD_'+str(nth_mid_sth_fg)+'_inputs_'+str(inp_idx)+'.png', dpi=600)\n",
    "\n",
    "plt.show()"
   ]
  },
  {
   "cell_type": "code",
   "execution_count": 16,
   "id": "91f395f1",
   "metadata": {},
   "outputs": [
    {
     "data": {
      "application/javascript": [
       "IPython.notebook.save_notebook()"
      ]
     },
     "metadata": {},
     "output_type": "display_data"
    }
   ],
   "source": [
    "from IPython.display import Javascript\n",
    "from nbconvert import HTMLExporter\n",
    "\n",
    "def save_notebook():\n",
    "    display(\n",
    "        Javascript(\"IPython.notebook.save_notebook()\"),\n",
    "        include=['application/javascript']\n",
    "    )\n",
    "\n",
    "def output_HTML(read_file, output_file):\n",
    "    import codecs\n",
    "    import nbformat\n",
    "    exporter = HTMLExporter()\n",
    "    # read_file is '.ipynb', output_file is '.html'\n",
    "    output_notebook = nbformat.read(read_file, as_version=4)\n",
    "    output, resources = exporter.from_notebook_node(output_notebook)\n",
    "    codecs.open(output_file, 'w', encoding='utf-8').write(output)\n",
    "\n",
    "cwd = os.getcwd() \n",
    "directory = os.path.join('C:/Users/'+user_name+'/iHelm/Spatio_Temporl_Agg_Eff_Score')\n",
    "os.chdir(directory) \n",
    "####################\n",
    "import random\n",
    "sym=round(random.uniform(0, 1),4)  \n",
    "\n",
    "import time\n",
    "\n",
    "save_notebook()\n",
    "time.sleep(3)\n",
    "current_file = 'Heatmap_search_ANN_Reg_v1.ipynb'\n",
    "output_file = 'C:/Users/'+user_name+'/OneDrive - Högskolan i Halmstad/Pred_DT_Results/Heatmap_search_ANN_Reg_v1'+str(sym)+'.html'\n",
    "\n",
    "# os.chdir('C:/Users/mohabu/OneDrive - Högskolan i Halmstad/Pred_DT_Results')\n",
    "output_HTML(current_file, output_file)\n"
   ]
  },
  {
   "cell_type": "code",
   "execution_count": null,
   "id": "ecb23c5a",
   "metadata": {},
   "outputs": [],
   "source": []
  },
  {
   "cell_type": "code",
   "execution_count": null,
   "id": "c5c95ba5",
   "metadata": {},
   "outputs": [],
   "source": []
  },
  {
   "cell_type": "code",
   "execution_count": null,
   "id": "3554cb86",
   "metadata": {},
   "outputs": [],
   "source": []
  },
  {
   "cell_type": "code",
   "execution_count": null,
   "id": "81c67e8e",
   "metadata": {},
   "outputs": [],
   "source": []
  },
  {
   "cell_type": "code",
   "execution_count": null,
   "id": "9a03f598",
   "metadata": {},
   "outputs": [],
   "source": []
  },
  {
   "cell_type": "code",
   "execution_count": null,
   "id": "db3aaa9b",
   "metadata": {},
   "outputs": [],
   "source": []
  },
  {
   "cell_type": "code",
   "execution_count": null,
   "id": "ce8c6934",
   "metadata": {},
   "outputs": [],
   "source": []
  }
 ],
 "metadata": {
  "kernelspec": {
   "display_name": "Python 3 (ipykernel)",
   "language": "python",
   "name": "python3"
  },
  "language_info": {
   "codemirror_mode": {
    "name": "ipython",
    "version": 3
   },
   "file_extension": ".py",
   "mimetype": "text/x-python",
   "name": "python",
   "nbconvert_exporter": "python",
   "pygments_lexer": "ipython3",
   "version": "3.9.7"
  }
 },
 "nbformat": 4,
 "nbformat_minor": 5
}
