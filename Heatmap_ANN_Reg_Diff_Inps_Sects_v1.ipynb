{
 "cells": [
  {
   "cell_type": "markdown",
   "id": "3691f594",
   "metadata": {},
   "source": [
    "### Heat map for the results of ANN regression of Eff-score\n",
    "\n",
    "This notebook to present the results of the ANN regression for the Eff-Score with different combinations of inputs and route sections\n",
    "\n",
    "\n",
    "The route sections:All, North, Middle, South, and Direct\n",
    "\n",
    "The indeces for inputs combinations: 0, 1, 2, and 3\n",
    "\n",
    "This notebook is reproducible,  the user just needs to chang the user_name in first cell, then the rest will automatically be created, such as folders and subfolders where figure and excel files are saved.\n"
   ]
  },
  {
   "cell_type": "code",
   "execution_count": 1,
   "id": "fa70810a",
   "metadata": {},
   "outputs": [],
   "source": [
    "user_name='mohabu'"
   ]
  },
  {
   "cell_type": "code",
   "execution_count": 2,
   "id": "02cf478f",
   "metadata": {},
   "outputs": [],
   "source": [
    "inputs_idx=[0,1,2,3] ## index of input variables"
   ]
  },
  {
   "cell_type": "code",
   "execution_count": 3,
   "id": "557e9fee",
   "metadata": {},
   "outputs": [],
   "source": [
    "search_eff_fl_sog=0; Res=\"Eff\"  ## search of eff-score regression's results\n"
   ]
  },
  {
   "cell_type": "code",
   "execution_count": 4,
   "id": "dc531456",
   "metadata": {},
   "outputs": [],
   "source": [
    "import pandas as pd\n",
    "import seaborn as sns\n",
    "import matplotlib.pyplot as plt\n",
    "import os\n",
    "import warnings\n",
    "warnings.filterwarnings('ignore')"
   ]
  },
  {
   "cell_type": "code",
   "execution_count": 5,
   "id": "df76169e",
   "metadata": {},
   "outputs": [],
   "source": [
    "##### folder name for saving files: figures, data, etc ####\n",
    "Output_folder='Spatio_Temporl_Agg_Eff_Score'\n",
    "\n",
    "\n",
    "Output_Subfolder = Output_folder+'/Heatmap_ANN_Reg_Eff_Diff_Sections_Inputs_v1'+'/NMS_'+'search_eff_fl_sog'+Res\n"
   ]
  },
  {
   "cell_type": "code",
   "execution_count": 6,
   "id": "afbaa254",
   "metadata": {},
   "outputs": [],
   "source": [
    "folder_path = r'C:/Users/'+user_name+'/'+Output_Subfolder\n",
    "if not os.path.exists(folder_path):\n",
    "    os.makedirs(folder_path)"
   ]
  },
  {
   "cell_type": "code",
   "execution_count": 7,
   "id": "e507119f",
   "metadata": {},
   "outputs": [
    {
     "data": {
      "text/plain": [
       "(96, 16)"
      ]
     },
     "execution_count": 7,
     "metadata": {},
     "output_type": "execute_result"
    }
   ],
   "source": [
    "df0=pd.read_excel('C:/Users/'+user_name+'/Spatio_Temporl_Agg_Eff_Score/Results_Search_ANN_Reg_Eff/Search_Eff_Reg_Mod_All_weathers_loc_0_NMS_0_EffTp_1_GrOck_2_0.7288.xlsx')\n",
    "#     if nth_mid_sth_fg==1:    \n",
    "df1=pd.read_excel('C:/Users/'+user_name+'/Spatio_Temporl_Agg_Eff_Score/Results_Search_ANN_Reg_Eff/Search_Eff_Reg_Mod_All_weathers_loc_0_NMS_1_EffTp_1_GrOck_2_0.9928.xlsx')\n",
    "#     if nth_mid_sth_fg==2:\n",
    "df2=pd.read_excel('C:/Users/'+user_name+'/Spatio_Temporl_Agg_Eff_Score/Results_Search_ANN_Reg_Eff/Search_Eff_Reg_Mod_All_weathers_loc_0_NMS_2_EffTp_1_GrOck_2_0.7448.xlsx')\n",
    "#     if nth_mid_sth_fg==3:\n",
    "df3=pd.read_excel('C:/Users/'+user_name+'/Spatio_Temporl_Agg_Eff_Score/Results_Search_ANN_Reg_Eff/Search_Eff_Reg_Mod_All_weathers_loc_0_NMS_3_EffTp_1_GrOck_2_0.1707.xlsx')\n",
    "#     if nth_mid_sth_fg==4:\n",
    "df4=pd.read_excel('C:/Users/'+user_name+'/Spatio_Temporl_Agg_Eff_Score/Results_Search_ANN_Reg_Eff/Search_Eff_Reg_Mod_All_weathers_loc_0_NMS_4_EffTp_1_GrOck_2_0.0894.xlsx')\n",
    "\n",
    "df0.shape"
   ]
  },
  {
   "cell_type": "code",
   "execution_count": 8,
   "id": "fc33c2da",
   "metadata": {},
   "outputs": [
    {
     "data": {
      "text/plain": [
       "Index(['Unnamed: 0', 'outputs', 'inputs', 'Inputs_index', 'No_inputs',\n",
       "       'No#_layers', 'No# neurons', 'epochs', 'batch', 'Learn Rate', 'act_fn',\n",
       "       'optimizer', 'MSE', 'RMSE', 'R2', 'MAE'],\n",
       "      dtype='object')"
      ]
     },
     "execution_count": 8,
     "metadata": {},
     "output_type": "execute_result"
    }
   ],
   "source": [
    "df0.columns"
   ]
  },
  {
   "cell_type": "code",
   "execution_count": 9,
   "id": "07b6011a",
   "metadata": {},
   "outputs": [
    {
     "data": {
      "text/html": [
       "<div>\n",
       "<style scoped>\n",
       "    .dataframe tbody tr th:only-of-type {\n",
       "        vertical-align: middle;\n",
       "    }\n",
       "\n",
       "    .dataframe tbody tr th {\n",
       "        vertical-align: top;\n",
       "    }\n",
       "\n",
       "    .dataframe thead th {\n",
       "        text-align: right;\n",
       "    }\n",
       "</style>\n",
       "<table border=\"1\" class=\"dataframe\">\n",
       "  <thead>\n",
       "    <tr style=\"text-align: right;\">\n",
       "      <th></th>\n",
       "      <th>Inputs_index</th>\n",
       "      <th>No_inputs</th>\n",
       "      <th>No#_layers</th>\n",
       "      <th>No# neurons</th>\n",
       "      <th>MAE</th>\n",
       "    </tr>\n",
       "  </thead>\n",
       "  <tbody>\n",
       "    <tr>\n",
       "      <th>0</th>\n",
       "      <td>1</td>\n",
       "      <td>12</td>\n",
       "      <td>5</td>\n",
       "      <td>100</td>\n",
       "      <td>0.0204</td>\n",
       "    </tr>\n",
       "    <tr>\n",
       "      <th>1</th>\n",
       "      <td>1</td>\n",
       "      <td>12</td>\n",
       "      <td>4</td>\n",
       "      <td>100</td>\n",
       "      <td>0.0256</td>\n",
       "    </tr>\n",
       "    <tr>\n",
       "      <th>2</th>\n",
       "      <td>3</td>\n",
       "      <td>14</td>\n",
       "      <td>5</td>\n",
       "      <td>100</td>\n",
       "      <td>0.0267</td>\n",
       "    </tr>\n",
       "    <tr>\n",
       "      <th>3</th>\n",
       "      <td>3</td>\n",
       "      <td>14</td>\n",
       "      <td>4</td>\n",
       "      <td>100</td>\n",
       "      <td>0.0286</td>\n",
       "    </tr>\n",
       "    <tr>\n",
       "      <th>4</th>\n",
       "      <td>1</td>\n",
       "      <td>12</td>\n",
       "      <td>3</td>\n",
       "      <td>100</td>\n",
       "      <td>0.0290</td>\n",
       "    </tr>\n",
       "    <tr>\n",
       "      <th>...</th>\n",
       "      <td>...</td>\n",
       "      <td>...</td>\n",
       "      <td>...</td>\n",
       "      <td>...</td>\n",
       "      <td>...</td>\n",
       "    </tr>\n",
       "    <tr>\n",
       "      <th>91</th>\n",
       "      <td>2</td>\n",
       "      <td>10</td>\n",
       "      <td>10</td>\n",
       "      <td>10</td>\n",
       "      <td>0.0705</td>\n",
       "    </tr>\n",
       "    <tr>\n",
       "      <th>92</th>\n",
       "      <td>3</td>\n",
       "      <td>14</td>\n",
       "      <td>10</td>\n",
       "      <td>10</td>\n",
       "      <td>0.0705</td>\n",
       "    </tr>\n",
       "    <tr>\n",
       "      <th>93</th>\n",
       "      <td>3</td>\n",
       "      <td>14</td>\n",
       "      <td>10</td>\n",
       "      <td>100</td>\n",
       "      <td>0.0705</td>\n",
       "    </tr>\n",
       "    <tr>\n",
       "      <th>94</th>\n",
       "      <td>0</td>\n",
       "      <td>6</td>\n",
       "      <td>10</td>\n",
       "      <td>25</td>\n",
       "      <td>0.0705</td>\n",
       "    </tr>\n",
       "    <tr>\n",
       "      <th>95</th>\n",
       "      <td>2</td>\n",
       "      <td>10</td>\n",
       "      <td>10</td>\n",
       "      <td>25</td>\n",
       "      <td>0.0705</td>\n",
       "    </tr>\n",
       "  </tbody>\n",
       "</table>\n",
       "<p>96 rows × 5 columns</p>\n",
       "</div>"
      ],
      "text/plain": [
       "    Inputs_index  No_inputs  No#_layers  No# neurons     MAE\n",
       "0              1         12           5          100  0.0204\n",
       "1              1         12           4          100  0.0256\n",
       "2              3         14           5          100  0.0267\n",
       "3              3         14           4          100  0.0286\n",
       "4              1         12           3          100  0.0290\n",
       "..           ...        ...         ...          ...     ...\n",
       "91             2         10          10           10  0.0705\n",
       "92             3         14          10           10  0.0705\n",
       "93             3         14          10          100  0.0705\n",
       "94             0          6          10           25  0.0705\n",
       "95             2         10          10           25  0.0705\n",
       "\n",
       "[96 rows x 5 columns]"
      ]
     },
     "execution_count": 9,
     "metadata": {},
     "output_type": "execute_result"
    }
   ],
   "source": [
    "df0[['Inputs_index', 'No_inputs', 'No#_layers', 'No# neurons', 'MAE']]"
   ]
  },
  {
   "cell_type": "code",
   "execution_count": 10,
   "id": "de92fdcf",
   "metadata": {},
   "outputs": [
    {
     "name": "stdout",
     "output_type": "stream",
     "text": [
      "[0, 1, 2, 3]\n"
     ]
    }
   ],
   "source": [
    "inputs_idx=inputs_idx\n",
    "print(inputs_idx)"
   ]
  },
  {
   "cell_type": "code",
   "execution_count": 11,
   "id": "33e9268a",
   "metadata": {},
   "outputs": [],
   "source": [
    "dfs=['df0', 'df1', 'df2', 'df3', 'df4']\n",
    "data_dic={}\n",
    "Res_stats=pd.DataFrame([])\n",
    "df_st=[]\n",
    "\n",
    "for i in range(len(dfs)):\n",
    "    df=eval(dfs[i])\n",
    "    for inp_idx in inputs_idx:\n",
    "        data=df[(df.Inputs_index==inp_idx)]\n",
    "        data['min_RMSE']=data['RMSE'].min()\n",
    "        data['max_R2']=data['R2'].max()\n",
    "        data['min_MAE']=data['MAE'].min()\n",
    "        \n",
    "        data_dic[dfs[i]+'_'+str(inp_idx)]=data[['min_RMSE','max_R2', 'min_MAE']].iloc[0]\n",
    "#         df_st.append[]\n",
    "#         Res_stats=pd.DataFrame({'All_Route','North','Middle','South','Direct':data['min_RMSE']})\n",
    "        "
   ]
  },
  {
   "cell_type": "code",
   "execution_count": 12,
   "id": "99d31130",
   "metadata": {
    "scrolled": true
   },
   "outputs": [
    {
     "data": {
      "text/plain": [
       "min_RMSE    0.0135\n",
       "max_R2      0.9731\n",
       "min_MAE     0.0086\n",
       "Name: 72, dtype: float64"
      ]
     },
     "execution_count": 12,
     "metadata": {},
     "output_type": "execute_result"
    }
   ],
   "source": [
    "data_dic['df0_0']\n",
    "data_dic['df4_3']\n",
    "# data_dic['df4_0']"
   ]
  },
  {
   "cell_type": "code",
   "execution_count": 13,
   "id": "3ee19e8c",
   "metadata": {},
   "outputs": [],
   "source": [
    "dfR2max_dic={}; dfMREmin_dic={}\n",
    "\n",
    "dfs=['df0', 'df1', 'df2', 'df3', 'df4']\n",
    "\n",
    "for i in range(len(dfs)):\n",
    "    dfR2max_inps=[]\n",
    "    dfMAEmin_inps=[]\n",
    "    for inp_idx in inputs_idx:\n",
    "        dfR2max_inps.append(data_dic[dfs[i]+'_'+str(inp_idx)]['max_R2'])\n",
    "        dfMAEmin_inps.append(data_dic[dfs[i]+'_'+str(inp_idx)]['min_MAE'])\n",
    "\n",
    "        \n",
    "    dfR2max_dic[dfs[i]]=dfR2max_inps\n",
    "    dfMREmin_dic[dfs[i]]=dfMAEmin_inps\n",
    "    \n",
    "Res_max_R2=pd.DataFrame({'All_Route':dfR2max_dic['df0'],\n",
    "                                 'North':dfR2max_dic['df1'],\n",
    "                                 'Middle':dfR2max_dic['df2'],\n",
    "                                 'South':dfR2max_dic['df3'],\n",
    "                                 'Direct':dfR2max_dic['df4']})\n",
    "\n",
    "Res_min_MAE=pd.DataFrame({'All_Route':dfMREmin_dic['df0'],\n",
    "                                 'North':dfMREmin_dic['df1'],\n",
    "                                 'Middle':dfMREmin_dic['df2'],\n",
    "                                 'South':dfMREmin_dic['df3'],\n",
    "                                 'Direct':dfMREmin_dic['df4']})\n"
   ]
  },
  {
   "cell_type": "code",
   "execution_count": 14,
   "id": "ddecc101",
   "metadata": {},
   "outputs": [
    {
     "data": {
      "text/html": [
       "<div>\n",
       "<style scoped>\n",
       "    .dataframe tbody tr th:only-of-type {\n",
       "        vertical-align: middle;\n",
       "    }\n",
       "\n",
       "    .dataframe tbody tr th {\n",
       "        vertical-align: top;\n",
       "    }\n",
       "\n",
       "    .dataframe thead th {\n",
       "        text-align: right;\n",
       "    }\n",
       "</style>\n",
       "<table border=\"1\" class=\"dataframe\">\n",
       "  <thead>\n",
       "    <tr style=\"text-align: right;\">\n",
       "      <th></th>\n",
       "      <th>All_Route</th>\n",
       "      <th>North</th>\n",
       "      <th>Middle</th>\n",
       "      <th>South</th>\n",
       "      <th>Direct</th>\n",
       "    </tr>\n",
       "  </thead>\n",
       "  <tbody>\n",
       "    <tr>\n",
       "      <th>0</th>\n",
       "      <td>0.1886</td>\n",
       "      <td>0.2656</td>\n",
       "      <td>0.0867</td>\n",
       "      <td>0.2272</td>\n",
       "      <td>0.4898</td>\n",
       "    </tr>\n",
       "    <tr>\n",
       "      <th>1</th>\n",
       "      <td>0.8953</td>\n",
       "      <td>0.8604</td>\n",
       "      <td>0.5734</td>\n",
       "      <td>0.6375</td>\n",
       "      <td>0.9842</td>\n",
       "    </tr>\n",
       "    <tr>\n",
       "      <th>2</th>\n",
       "      <td>0.6037</td>\n",
       "      <td>0.5303</td>\n",
       "      <td>0.2864</td>\n",
       "      <td>0.4090</td>\n",
       "      <td>0.9437</td>\n",
       "    </tr>\n",
       "    <tr>\n",
       "      <th>3</th>\n",
       "      <td>0.8361</td>\n",
       "      <td>0.7770</td>\n",
       "      <td>0.5113</td>\n",
       "      <td>0.5668</td>\n",
       "      <td>0.9731</td>\n",
       "    </tr>\n",
       "  </tbody>\n",
       "</table>\n",
       "</div>"
      ],
      "text/plain": [
       "   All_Route   North  Middle   South  Direct\n",
       "0     0.1886  0.2656  0.0867  0.2272  0.4898\n",
       "1     0.8953  0.8604  0.5734  0.6375  0.9842\n",
       "2     0.6037  0.5303  0.2864  0.4090  0.9437\n",
       "3     0.8361  0.7770  0.5113  0.5668  0.9731"
      ]
     },
     "execution_count": 14,
     "metadata": {},
     "output_type": "execute_result"
    }
   ],
   "source": [
    "Res_max_R2"
   ]
  },
  {
   "cell_type": "code",
   "execution_count": 15,
   "id": "e945ad93",
   "metadata": {},
   "outputs": [
    {
     "data": {
      "text/html": [
       "<div>\n",
       "<style scoped>\n",
       "    .dataframe tbody tr th:only-of-type {\n",
       "        vertical-align: middle;\n",
       "    }\n",
       "\n",
       "    .dataframe tbody tr th {\n",
       "        vertical-align: top;\n",
       "    }\n",
       "\n",
       "    .dataframe thead th {\n",
       "        text-align: right;\n",
       "    }\n",
       "</style>\n",
       "<table border=\"1\" class=\"dataframe\">\n",
       "  <thead>\n",
       "    <tr style=\"text-align: right;\">\n",
       "      <th></th>\n",
       "      <th>All_Route</th>\n",
       "      <th>North</th>\n",
       "      <th>Middle</th>\n",
       "      <th>South</th>\n",
       "      <th>Direct</th>\n",
       "    </tr>\n",
       "  </thead>\n",
       "  <tbody>\n",
       "    <tr>\n",
       "      <th>0</th>\n",
       "      <td>0.0633</td>\n",
       "      <td>0.0585</td>\n",
       "      <td>0.0646</td>\n",
       "      <td>0.0578</td>\n",
       "      <td>0.0475</td>\n",
       "    </tr>\n",
       "    <tr>\n",
       "      <th>1</th>\n",
       "      <td>0.0204</td>\n",
       "      <td>0.0226</td>\n",
       "      <td>0.0431</td>\n",
       "      <td>0.0372</td>\n",
       "      <td>0.0058</td>\n",
       "    </tr>\n",
       "    <tr>\n",
       "      <th>2</th>\n",
       "      <td>0.0431</td>\n",
       "      <td>0.0447</td>\n",
       "      <td>0.0569</td>\n",
       "      <td>0.0496</td>\n",
       "      <td>0.0101</td>\n",
       "    </tr>\n",
       "    <tr>\n",
       "      <th>3</th>\n",
       "      <td>0.0267</td>\n",
       "      <td>0.0299</td>\n",
       "      <td>0.0473</td>\n",
       "      <td>0.0405</td>\n",
       "      <td>0.0086</td>\n",
       "    </tr>\n",
       "  </tbody>\n",
       "</table>\n",
       "</div>"
      ],
      "text/plain": [
       "   All_Route   North  Middle   South  Direct\n",
       "0     0.0633  0.0585  0.0646  0.0578  0.0475\n",
       "1     0.0204  0.0226  0.0431  0.0372  0.0058\n",
       "2     0.0431  0.0447  0.0569  0.0496  0.0101\n",
       "3     0.0267  0.0299  0.0473  0.0405  0.0086"
      ]
     },
     "execution_count": 15,
     "metadata": {},
     "output_type": "execute_result"
    }
   ],
   "source": [
    "Res_min_MAE"
   ]
  },
  {
   "cell_type": "code",
   "execution_count": 16,
   "id": "91f395f1",
   "metadata": {},
   "outputs": [
    {
     "data": {
      "image/png": "[encoded data removed]",
      "text/plain": [
       "<Figure size 432x288 with 2 Axes>"
      ]
     },
     "metadata": {
      "needs_background": "light"
     },
     "output_type": "display_data"
    }
   ],
   "source": [
    "# sns.heatmap(Res_min_MAE, annot=True, fmt='g', cmap=\"Reds\",vmin=0.02, vmax=0.08)\n",
    "# sns.heatmap(Res_min_MAE, annot=True, fmt='g', cmap=\"YlOrBr\",vmin=0.02, vmax=0.08)\n",
    "sns.heatmap(Res_min_MAE, annot=True, fmt='g', cmap=\"YlGn\",vmin=0.02, vmax=0.08)\n",
    "# sns.heatmap(Res_min_MAE, annot=True, fmt='g', cmap=\"YlOrRd\",vmin=0.02, vmax=0.08)\n",
    "\n",
    "\n",
    "plt.xlabel('Route Sections',fontsize=14)\n",
    "plt.ylabel('Inputs Index',fontsize=14)\n",
    "plt.title('Mean Absolute Error (MAE)',fontsize=14)\n",
    "\n",
    "plt.savefig('C:/Users/'+user_name+'/'+Output_Subfolder+'/Heatmap_search_ANNReg_diff_Inputs_diff_Sections_MAE_'+'.png', dpi=600)\n"
   ]
  },
  {
   "cell_type": "code",
   "execution_count": 17,
   "id": "ecb23c5a",
   "metadata": {},
   "outputs": [
    {
     "data": {
      "image/png": "[encoded data removed]",
      "text/plain": [
       "<Figure size 432x288 with 2 Axes>"
      ]
     },
     "metadata": {
      "needs_background": "light"
     },
     "output_type": "display_data"
    }
   ],
   "source": [
    "# sns.heatmap(Res_max_R2, annot=True, fmt='g', cmap=\"Reds\",vmin=0., vmax=1)\n",
    "# sns.heatmap(Res_max_R2, annot=True, fmt='g', cmap=\"YlOrBr\",vmin=0., vmax=1)\n",
    "sns.heatmap(Res_max_R2, annot=True, fmt='g', cmap=\"YlGn\",vmin=0., vmax=1)\n",
    "# sns.heatmap(Res_max_R2, annot=True, fmt='g', cmap=\"YlOrRd\",vmin=0.0, vmax=1)\n",
    "\n",
    "\n",
    "plt.xlabel('Route Sections',fontsize=14)\n",
    "plt.ylabel('Inputs Index',fontsize=14)\n",
    "plt.title('Coefficient of Determination ($R^2$)', fontsize=14)\n",
    "\n",
    "plt.savefig('C:/Users/'+user_name+'/'+Output_Subfolder+'/Heatmap_search_ANNReg_diff_Inputs_diff_Sections_R2_'+'.png', dpi=600)\n"
   ]
  },
  {
   "cell_type": "code",
   "execution_count": 18,
   "id": "3554cb86",
   "metadata": {},
   "outputs": [
    {
     "data": {
      "application/javascript": [
       "IPython.notebook.save_notebook()"
      ]
     },
     "metadata": {},
     "output_type": "display_data"
    }
   ],
   "source": [
    "from IPython.display import Javascript\n",
    "from nbconvert import HTMLExporter\n",
    "\n",
    "def save_notebook():\n",
    "    display(\n",
    "        Javascript(\"IPython.notebook.save_notebook()\"),\n",
    "        include=['application/javascript']\n",
    "    )\n",
    "\n",
    "def output_HTML(read_file, output_file):\n",
    "    import codecs\n",
    "    import nbformat\n",
    "    exporter = HTMLExporter()\n",
    "    # read_file is '.ipynb', output_file is '.html'\n",
    "    output_notebook = nbformat.read(read_file, as_version=4)\n",
    "    output, resources = exporter.from_notebook_node(output_notebook)\n",
    "    codecs.open(output_file, 'w', encoding='utf-8').write(output)\n",
    "\n",
    "cwd = os.getcwd() \n",
    "directory = os.path.join('C:/Users/'+user_name+'/iHelm/Spatio_Temporl_Agg_Eff_Score')\n",
    "os.chdir(directory) \n",
    "####################\n",
    "import random\n",
    "sym=round(random.uniform(0, 1),4)  \n",
    "\n",
    "import time\n",
    "\n",
    "save_notebook()\n",
    "time.sleep(3)\n",
    "current_file = 'Heatmap_ANN_Reg_Diff_Inps_Sects_v1.ipynb'\n",
    "output_file = 'C:/Users/'+user_name+'/OneDrive - Högskolan i Halmstad/Pred_DT_Results/Heatmap_ANN_Reg_Diff_Inps_Sects_v1'+str(sym)+'.html'\n",
    "\n",
    "# os.chdir('C:/Users/mohabu/OneDrive - Högskolan i Halmstad/Pred_DT_Results')\n",
    "output_HTML(current_file, output_file)\n"
   ]
  },
  {
   "cell_type": "code",
   "execution_count": null,
   "id": "81c67e8e",
   "metadata": {},
   "outputs": [],
   "source": []
  },
  {
   "cell_type": "code",
   "execution_count": null,
   "id": "9a03f598",
   "metadata": {},
   "outputs": [],
   "source": []
  },
  {
   "cell_type": "code",
   "execution_count": null,
   "id": "db3aaa9b",
   "metadata": {},
   "outputs": [],
   "source": []
  },
  {
   "cell_type": "code",
   "execution_count": null,
   "id": "ce8c6934",
   "metadata": {},
   "outputs": [],
   "source": []
  }
 ],
 "metadata": {
  "kernelspec": {
   "display_name": "Python 3 (ipykernel)",
   "language": "python",
   "name": "python3"
  },
  "language_info": {
   "codemirror_mode": {
    "name": "ipython",
    "version": 3
   },
   "file_extension": ".py",
   "mimetype": "text/x-python",
   "name": "python",
   "nbconvert_exporter": "python",
   "pygments_lexer": "ipython3",
   "version": "3.9.7"
  }
 },
 "nbformat": 4,
 "nbformat_minor": 5
}
